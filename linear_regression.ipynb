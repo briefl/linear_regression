{
 "cells": [
  {
   "cell_type": "markdown",
   "metadata": {},
   "source": [
    "# Лабораторная работа 2\n",
    "\n",
    "## Линейная регрессия"
   ]
  },
  {
   "cell_type": "markdown",
   "metadata": {},
   "source": [
    "### Метод наименьших квадратов: постановка задачи\n",
    "\n",
    "Рассмотрим систему уравнений $Xa = y$, в которой $a$ — столбец неизвестных. Её можно переписать в векторном виде\n",
    "$$x_1 a_1 + x_2 a_2 + \\ldots + x_k a_k = y,$$\n",
    "где $x_1,\\ldots,x_k$ — столбцы матрицы $X$. Таким образом, решить исходную систему означает найти линейную комбинацию векторов $x_1,\\ldots,x_k$, равную правой части. Но что делать, если такой линейной комбинации не существует? Геометрически это означает, что вектор $y$ не лежит в подпространстве $U = \\langle x_1,\\ldots, x_k\\rangle$. В этом случае мы можем найти *псевдорешение*: вектор коэффициентов $\\hat{a}$, для которого линейная комбинация $x_1 \\hat{a}_1 + x_2 \\hat{a}_2 + \\ldots + x_k \\hat{a}_k$ хоть и не равна в точности $y$, но является наилучшим приближением — то есть ближайшей к $y$ точкой $\\hat{y}$ подпространства $U$ (иными словами, ортогональной проекцией $y$ на это подпростанство). Итак, цель наших исканий можно сформулировать двумя эквивалентными способами:\n",
    "\n",
    "1. Найти вектор $\\hat{a}$, для которого длина разности $|X\\hat{a} - y|$ минимальна (отсюда название \"метод наименьших квадратов\");\n",
    "2. Найти ортогональную проекцию $\\hat{y}$ вектора $y$ на подпространство $U$ и представить её в виде $X\\hat{a}$.\n",
    "\n",
    "Далее мы будем предполагать, что векторы $x_1,\\ldots,x_k$ линейно независимы (если нет, то сначала имеет смысл выделить максимальную линейно независимую подсистему).\n",
    "\n",
    "На лекциях было показано, что проекция вектора $y$ на подпространство $U = \\langle x_1,\\ldots, x_k\\rangle$, записывается в виде\n",
    "$$\\hat{y} = X\\left(X^TX\\right)^{-1}X^Ty,$$\n",
    "и, соответственно, искомый вектор $\\hat{a}$ равен\n",
    "$$\\hat{a} = \\left(X^TX\\right)^{-1}X^Ty.$$"
   ]
  },
  {
   "cell_type": "markdown",
   "metadata": {},
   "source": [
    "### Задача линейной регрессии\n",
    "\n",
    "Начнём с примера. Допустим, вы хотите найти зависимость среднего балла S студента ФКН от его роста H, веса W, длины волос L и N — количества часов, которые он ежедневно посвящает учёбе. Представьте, что мы измерили все эти параметры для $n$ студентов и получили наборы значений: $S_1,\\ldots, S_n$, $H_1,\\ldots, H_n$ и так далее.\n",
    "\n",
    "Тут можно подбирать много разных умных моделей, но начать имеет смысл с самой простой, линейной:\n",
    "$$S = a_1H + a_2W + a_3L + a_4N + a_5.$$\n",
    "Конечно, строгой линейной зависимости нет (иначе можно было бы радостно упразднить экзамены), но мы можем попробовать подобрать коэффициенты $a_1, a_2, a_3, a_4, a_5$, для которых отклонение правой части от наблюдаемых было бы наименьшим:\n",
    "$$\\sum_{i=1}^n\\left(S_i - ( a_1H_i + a_2W_i + a_3L_i + a_4N_i + a_5)\\right)^2 \\longrightarrow \\min$$\n",
    "И сразу видно, что мы получили задачу на метод наименьших квадратов! А именно, у нас\n",
    "$$X =\n",
    "\\begin{pmatrix}\n",
    "H_1 & W_1 & L_1 & N_1 & 1\\\\\n",
    "H_2 & W_2 & L_2 & N_2 & 1\\\\\n",
    "\\dots & \\dots & \\dots & \\dots & \\dots \\\\\n",
    "H_n & W_n & L_n & N_n & 1\n",
    "\\end{pmatrix},\\qquad y=\n",
    "\\begin{pmatrix}\n",
    "S_1\\\\ S_2\\\\ \\vdots \\\\ S_n\n",
    "\\end{pmatrix}$$\n",
    "\n",
    "Решая эту задачу с помощью уже известных формул, получаем оценки коэффициентов $\\hat{a}_i$ ($i = 1\\ldots,5$)."
   ]
  },
  {
   "cell_type": "markdown",
   "metadata": {},
   "source": [
    "Теперь проговорим общую постановку задачи линейной регрессии. У нас есть $k$ переменных $x_1,\\ldots,x_k$ (\"регрессоров\"), через которые мы хотим выразить \"объясняемую переменную\" $y$:\n",
    "$$y = a_1x_1 + a_2x_2 + \\ldots + a_kx_k$$\n",
    "Значения всех переменных мы измерили $n$ раз (у $n$ различных объектов,  в $n$ различных моментов времени - это зависит от задачи). Подставим эти данные в предыдущее равенство:\n",
    "$$\\begin{pmatrix}\n",
    "y_1\\\\ y_2 \\\\ \\vdots \\\\ y_n\n",
    "\\end{pmatrix} = \n",
    "a_1\\begin{pmatrix}\n",
    "x_{11} \\\\ x_{21} \\\\ \\vdots \\\\ x_{n1} \\end{pmatrix} + a_2\\begin{pmatrix}\n",
    "x_{12} \\\\ x_{22} \\\\ \\vdots \\\\ x_{n2} \\end{pmatrix} + \\ldots + a_k\\begin{pmatrix}\n",
    "x_{1k} \\\\ x_{2k} \\\\ \\vdots \\\\ x_{nk} \\end{pmatrix}$$\n",
    "(здесь $x_{ij}$ - это значение $j$-го признака на $i$-м измерении). Это удобно переписать в матричном виде:\n",
    "$$\\begin{pmatrix}\n",
    "x_{11} & x_{12} & \\ldots & x_{1k}\\\\\n",
    "x_{21} & x_{22} & \\ldots & x_{2k}\\\\\n",
    "\\dots & \\dots & \\dots & \\dots\\\\\n",
    "x_{n1} & x_{n2} & \\ldots & x_{nk}\n",
    "\\end{pmatrix} \\cdot\n",
    "\\begin{pmatrix}\n",
    "a_1 \\\\ a_2 \\\\ \\vdots \\\\ a_k\n",
    "\\end{pmatrix} = \n",
    "\\begin{pmatrix}\n",
    "y_1 \\\\ y_2 \\\\ \\vdots \\\\ y_n\n",
    "\\end{pmatrix}$$\n",
    "или коротко $Xa = y$. Поскольку на практике эта система уравнений зачастую не имеет решения (ибо зависимости в жизни редко бывают действительно линейными), методом наименьших квадратов ищется псевдорешение."
   ]
  },
  {
   "cell_type": "markdown",
   "metadata": {},
   "source": [
    "### Оценка качества. Обучение и тест \n",
    "\n",
    "После того, как вы построили регрессию и получили какую-то зависимость объясняемой переменной от регрессоров, настаёт время оценить качество регрессии. Есть много разных функционалов качества; мы пока будем говорить только о самом простом и очевидном из них: о среднеквадратичной ошибке (mean square error). Она равна\n",
    "$$\\frac1{n}|X\\hat{a} - y|^2 = \\frac1{n}\\sum_{i=1}^n\\left(\\hat{a}_1x_{i1} + \\hat{a}_2x_{i2} + \\ldots + \\hat{a}_kx_{ik} - y_i\\right)^2$$\n",
    "\n",
    "В целом, хочется искать модели с наименьшей mean square error на имеющихся данных. Однако слишком фанатичная гонка за минимизацией ошибки может привести к печальным последствиям, в чём Вам предстоит убедиться в ходе выполнения этой лабораторной.\n",
    "\n",
    "Чтобы не попадать в эту ловушку, данные обычно делят на обучающие (по которым строят модель и оценивают коэффициенты) и тестовые. Лучшей стоит счесть ту модель, для которой значение функционала качества будет меньше."
   ]
  },
  {
   "cell_type": "markdown",
   "metadata": {},
   "source": [
    "### Правила оформления графиков\n",
    "При работе с данными часто неудобно делать какие-то выводы, если смотреть на таблицу и числа в частности, поэтому важно уметь визуализировать данные. \n",
    "\n",
    "У matplotlib, конечно же, есть [документация](https://matplotlib.org/users/index.html) с большим количеством [примеров](https://matplotlib.org/examples/), но для начала достаточно знать про несколько основных типов графиков:\n",
    "- plot — обычный поточечный график, которым можно изображать кривые или отдельные точки;\n",
    "- hist — гистограмма, показывающая распределение некоторой величины;\n",
    "- scatter — график, показывающий взаимосвязь двух величин;\n",
    "- bar — столбцовый график, показывающий взаимосвязь количественной величины от категориальной.\n",
    "\n",
    "Ещё одна билиотека для визуализации: [seaborn](https://jakevdp.github.io/PythonDataScienceHandbook/04.14-visualization-with-seaborn.html). Это настройка над matplotlib, иногда удобнее и красивее делать визуализации через неё. \n",
    "\n",
    "При выполнении этой лабораторной Вы столкнётесь с необходимость рисовать большое количество графиков. Не забывайте про базовые принципы построения приличных графиков:\n",
    "- оси должны быть подписаны, причём не слишком мелко;\n",
    "- у графика должно быть название;\n",
    "- если изображено несколько графиков, то необходима поясняющая легенда;\n",
    "- для точек из разных выборок, необходимо использовать разные цвета;\n",
    "- все линии на графиках должны быть чётко видны (нет похожих цветов или цветов, сливающихся с фоном);\n",
    "- если отображена величина, имеющая очевидный диапазон значений (например, проценты могут быть от 0 до 100), то желательно масштабировать ось на весь диапазон значений (исключением является случай, когда вам необходимо показать малое отличие, которое незаметно в таких масштабах).\n",
    "\n",
    "Помните, что проверяющий имеет право снизить оценку за неопрятные графики."
   ]
  },
  {
   "cell_type": "markdown",
   "metadata": {},
   "source": [
    "### Формат сдачи\n",
    "Задания сдаются через систему Anytask. Инвайт можно найти на странице курса. Присылать необходимо ноутбук с выполненным заданием. Сам ноутбук называйте в формате homework-practice-02-linregr-Username.ipynb, где Username — Ваша фамилия."
   ]
  },
  {
   "cell_type": "markdown",
   "metadata": {},
   "source": [
    "### Задание 1. Метод наименьших квадратов (3 балла)"
   ]
  },
  {
   "cell_type": "markdown",
   "metadata": {},
   "source": [
    "Скачайте файлы ``train.txt`` и ``test.txt``. В первом из них находится обучающая выборка, а во втором — тестовая. Каждый из файлов содержит два столбца чисел, разделённых пробелами: в первом — $n$ точек (значения аргумента $x$), во втором — значения некоторой функции $y = f(x)$ в этих точках, искажённые случайным шумом. Ваша задача — по обучающей выборке подобрать функцию $y = g(x)$, пристойно приближающую неизвестную вам зависимость."
   ]
  },
  {
   "cell_type": "markdown",
   "metadata": {},
   "source": [
    "Загрузим обучающие и тестовые данные (не забудьте ввести правильный путь!)."
   ]
  },
  {
   "cell_type": "code",
   "execution_count": 36,
   "metadata": {},
   "outputs": [],
   "source": [
    "import numpy as np\n",
    "import matplotlib.pyplot as plt\n",
    "import scipy.linalg as sla\n",
    "import sklearn"
   ]
  },
  {
   "cell_type": "code",
   "execution_count": 37,
   "metadata": {},
   "outputs": [],
   "source": [
    "data_train = np.loadtxt('train.txt', delimiter=',')\n",
    "data_test = np.loadtxt('test.txt', delimiter=',')"
   ]
  },
  {
   "cell_type": "markdown",
   "metadata": {},
   "source": [
    "**0. [0 баллов]** Разделим значения $x$ и $y$"
   ]
  },
  {
   "cell_type": "code",
   "execution_count": 38,
   "metadata": {},
   "outputs": [],
   "source": [
    "X_train = data_train[:,0]\n",
    "y_train = data_train[:,1]\n",
    "\n",
    "X_test = data_test[:,0]\n",
    "y_test = data_test[:,1]"
   ]
  },
  {
   "cell_type": "markdown",
   "metadata": {},
   "source": [
    "**1. [0.1 балла]** Найдите с помощью метода наименьших квадратов линейную функцию ($y = kx + b$), наилучшим образом приближающую неизвестную зависимость. Полезные функции: ``numpy.ones(n)`` для создания массива из единиц длины $n$ и ``numpy.concatenate((А, В), axis=1)`` для слияния двух матриц по столбцам (пара ``А`` и ``В`` превращается в матрицу ``[A B]``). Напечатайте этот многочлен в виде $kx+b$."
   ]
  },
  {
   "cell_type": "code",
   "execution_count": 39,
   "metadata": {},
   "outputs": [
    {
     "name": "stdout",
     "output_type": "stream",
     "text": [
      "y = 2.27913449805195x + 4.433230905064935\n"
     ]
    }
   ],
   "source": [
    "def pseudosol(A, y):\n",
    "    AT = np.transpose(A)\n",
    "    return np.dot(np.dot(np.linalg.inv(np.dot(AT, A)), AT), y_train)\n",
    "\n",
    "n = X_train.shape[0]\n",
    "X = X_train.reshape((n, 1))\n",
    "\n",
    "A = np.concatenate((X, np.ones((n, 1))), axis = 1)\n",
    "AT = np.transpose(A)\n",
    "kb = pseudosol(A, y_train)\n",
    "\n",
    "k = kb[0]\n",
    "b = kb[1]\n",
    "print(\"y = \", k, \"x + \", b, sep=\"\")"
   ]
  },
  {
   "cell_type": "markdown",
   "metadata": {},
   "source": [
    "**2. [0.15 балла]** Нарисуйте на плоскости точки $(x_i, y_i)$ из обеих выборок и полученную линейную функцию."
   ]
  },
  {
   "cell_type": "code",
   "execution_count": 40,
   "metadata": {},
   "outputs": [
    {
     "data": {
      "text/plain": [
       "<matplotlib.legend.Legend at 0x24f228714c8>"
      ]
     },
     "execution_count": 40,
     "metadata": {},
     "output_type": "execute_result"
    },
    {
     "data": {
      "image/png": "[encoded data removed]",
      "text/plain": [
       "<Figure size 432x288 with 1 Axes>"
      ]
     },
     "metadata": {
      "needs_background": "light"
     },
     "output_type": "display_data"
    }
   ],
   "source": [
    "x = np.linspace(-0.3, 1.2, 100)\n",
    "\n",
    "plt.scatter(X_train, y_train, label='train data')\n",
    "plt.scatter(X_test, y_test, label='test data')\n",
    "plt.plot(x, x * k + b, 'C3', label='linear')\n",
    "plt.title(\"Linear approximation\")\n",
    "plt.legend()"
   ]
  },
  {
   "cell_type": "markdown",
   "metadata": {},
   "source": [
    "**3. [0.15 балла]** Глядя на данные, подумайте, многочленом какой степени можно было бы лучше всего приблизить эту функцию с точки зрения минимизации среднеквадратичной ошибки на обучающей выборке. Найдите этот многочлен и напечатайте его в виде $a_0 + a_1 x + \\ldots a_k x^k$."
   ]
  },
  {
   "cell_type": "code",
   "execution_count": 41,
   "metadata": {},
   "outputs": [
    {
     "name": "stdout",
     "output_type": "stream",
     "text": [
      "y = 4.431297813827996 - 0.1305980398675337x + 3.274714401776599x^2 + 21.374796276399223x^3 - 51.1314813855754x^4 + 29.524978041429065x^5"
     ]
    }
   ],
   "source": [
    "k = 5;\n",
    "n = X_train.shape[0]\n",
    "X = X_train.reshape((n, 1))\n",
    "\n",
    "A = np.ones((n, 1))\n",
    "\n",
    "for i in range (1, k + 1):\n",
    "    A = np.concatenate((A, np.power(X, i)), axis = 1)\n",
    "\n",
    "polynom = pseudosol(A, y_train)\n",
    "\n",
    "print(\"y = \", polynom[0], end='', sep = '')\n",
    "for i in range(1, polynom.shape[0]):\n",
    "    if (polynom[i] < 0):\n",
    "        print(' - ', end='')\n",
    "    else:\n",
    "        print(' + ', end='')\n",
    "    print(np.abs(polynom[i]), 'x', end='', sep = '')\n",
    "    if (i != 1):\n",
    "        print('^', i, end='', sep = '')"
   ]
  },
  {
   "cell_type": "markdown",
   "metadata": {},
   "source": [
    "**4. [0.1 балла]** Нарисуйте его график на одном чертеже вместе с точками $(x_i, y_i)$ из обеих выборок."
   ]
  },
  {
   "cell_type": "code",
   "execution_count": 42,
   "metadata": {},
   "outputs": [
    {
     "data": {
      "text/plain": [
       "<matplotlib.legend.Legend at 0x24f22c2ee08>"
      ]
     },
     "execution_count": 42,
     "metadata": {},
     "output_type": "execute_result"
    },
    {
     "data": {
      "image/png": "[encoded data removed]",
      "text/plain": [
       "<Figure size 432x288 with 1 Axes>"
      ]
     },
     "metadata": {
      "needs_background": "light"
     },
     "output_type": "display_data"
    }
   ],
   "source": [
    "def polynomial_approx(x, polynom):\n",
    "    res = 0\n",
    "    for i in range(0, polynom.shape[0]):\n",
    "        res += polynom[i] * (x ** i)\n",
    "    return res\n",
    "\n",
    "x = np.linspace(-0.2, 1.0, 100)\n",
    "\n",
    "plt.scatter(X_train, y_train, label='train data')\n",
    "plt.scatter(X_test, y_test, label='test data')\n",
    "plt.plot(x, polynomial_approx(x, polynom), 'C3', label='polynom')\n",
    "plt.title(\"Polynomial approximation\")\n",
    "plt.legend()"
   ]
  },
  {
   "cell_type": "markdown",
   "metadata": {},
   "source": [
    "**5. [0.25 балла]** Для $k = 1,2,3,\\ldots,10$ найдите многочлен $\\hat{f}_k$ степени $k$, наилучшим образом приближающий неизвестную зависимость. Напечатайте найденные многочлены в виде $a_0 + a_1 x + \\ldots a_k x^k$."
   ]
  },
  {
   "cell_type": "code",
   "execution_count": 43,
   "metadata": {},
   "outputs": [
    {
     "name": "stdout",
     "output_type": "stream",
     "text": [
      "y = 4.433230905064935 + 2.2791344980519463x\n",
      "y = 4.472476503404162 + 1.1578316883597481x + 1.4016285121152738x^2\n",
      "y = 4.460736355285147 + 1.0650161052851068x + 1.8597508372609308x^2 - 0.38176860428818316x^3\n",
      "y = 4.341166120399635 + 1.1718023926318055x + 6.7940917843605035x^2 - 13.051328119988625x^3 + 7.918474697311261x^4\n",
      "y = 4.431297813827996 - 0.1305980398675337x + 3.274714401776599x^2 + 21.374796276399223x^3 - 51.1314813855754x^4 + 29.524978041429065x^5\n",
      "y = 4.383795010921297 - 4.597179326193927x + 16.002903993368363x^2 + 121.25709712788569x^3 - 481.5101328853108x^4 + 581.453298243842x^5 - 229.97013341870002x^6\n",
      "y = 4.44451270934287 - 4.0088959024654045x + 7.215458559885491x^2 + 119.35078431892x^3 - 314.23117234873587x^4 + 122.87821664144394x^5 + 238.69936824799606x^6 - 167.3819648855183x^7\n",
      "y = 4.663789110119307 - 5.182773429096918x - 26.695632423834578x^2 + 268.86044390602393x^3 + 109.8956783422816x^4 - 3132.856466418936x^5 + 6760.628613413113x^6 - 5701.710314683662x^7 + 1729.4776090304922x^8\n",
      "y = 4.645883451491439 - 4.552705468075985x - 24.262716615010845x^2 + 219.04205380404824x^3 + 176.2453996344002x^4 - 2441.962921868093x^5 + 3913.268983882983x^6 - 1216.4495596979104x^7 - 1522.0973004258994x^8 + 903.215241519305x^9\n",
      "y = 4.669169797462869 - 2.1597968667450864x - 36.175192310049454x^2 + 44.934703262095354x^3 + 1201.953532205278x^4 - 1660.823796085162x^5 - 12969.93344380334x^6 + 46686.64574029x^7 - 63620.98727437545x^8 + 40177.52318651695x^9 - 9818.576039518302x^10\n"
     ]
    }
   ],
   "source": [
    "polynoms = []\n",
    "polynoms.append([0])\n",
    "rng = range(1, 11)\n",
    "\n",
    "for k in rng:\n",
    "    n = X_train.shape[0]\n",
    "    X = X_train.reshape((n, 1))\n",
    "\n",
    "    A = np.ones((n, 1))\n",
    "\n",
    "    for i in range (1, k + 1):\n",
    "        A = np.concatenate((A, np.power(X, i)), axis = 1)\n",
    "        \n",
    "    polynoms.append(pseudosol(A, y_train))\n",
    "\n",
    "    print(\"y =\", polynoms[k][0], end='')\n",
    "    for i in range(1, polynoms[k].shape[0]):\n",
    "        if (polynoms[k][i] < 0):\n",
    "            print(' - ', end='')\n",
    "        else:\n",
    "            print(' + ', end='')\n",
    "        print(np.abs(polynoms[k][i]), 'x', end='', sep = '')\n",
    "        if (i != 1):\n",
    "            print('^', i, end='', sep = '')\n",
    "    print()"
   ]
  },
  {
   "cell_type": "markdown",
   "metadata": {},
   "source": [
    "**6. [1 балл]** Для каждого из них найдите среднеквадратическую ошибку на обучающих данных и на тестовых данных: $\\frac1{n}\\sum_{i=1}^n\\left( \\hat{f}_k(x_i) - y_i \\right)^2$ (в первом случае сумма ведётся по парам $(x_i, y_i)$ из обучающих данных, а во втором — по парам из тестовых данных)."
   ]
  },
  {
   "cell_type": "code",
   "execution_count": 44,
   "metadata": {},
   "outputs": [
    {
     "name": "stdout",
     "output_type": "stream",
     "text": [
      "Test data\n",
      "k = 1, loss = 0.29689663326251964\n",
      "k = 2, loss = 0.2696989158766913\n",
      "k = 3, loss = 0.269497187147961\n",
      "k = 4, loss = 0.26106653305792726\n",
      "k = 5, loss = 0.24998504648317513\n",
      "k = 6, loss = 0.18829348988370612\n",
      "k = 7, loss = 0.1853962115329439\n",
      "k = 8, loss = 0.15905556579089053\n",
      "k = 9, loss = 0.15847184274751358\n",
      "k = 10, loss = 0.15316611003109412\n",
      "Train data\n",
      "k = 1, loss = 0.4351202004048878\n",
      "k = 2, loss = 0.35647628878312543\n",
      "k = 3, loss = 0.3553464571518395\n",
      "k = 4, loss = 0.44172701892854427\n",
      "k = 5, loss = 0.5579732021788699\n",
      "k = 6, loss = 2.5816929325226377\n",
      "k = 7, loss = 2.5157829074244904\n",
      "k = 8, loss = 4.357288863017028\n",
      "k = 9, loss = 4.77634194007967\n",
      "k = 10, loss = 14.632412163020712\n",
      "\n"
     ]
    }
   ],
   "source": [
    "def polynomial_loss(X, y, polynom):\n",
    "    res = 0\n",
    "    n = X.shape[0]\n",
    "    for i in range(0, n):\n",
    "        res += (polynomial_approx(X[i], polynom) - y[i]) ** 2\n",
    "        \n",
    "    return res / n\n",
    "    \n",
    "print(\"Test data\")\n",
    "for i in rng:\n",
    "    print(\"k = \", i, \", loss = \", polynomial_loss(X_train, y_train, polynoms[i]), sep = '') \n",
    "    \n",
    "print(\"Train data\")\n",
    "\n",
    "polynomial_losses = [10000]\n",
    "for i in rng:\n",
    "    polynomial_losses.append(polynomial_loss(X_test, y_test, polynoms[i]))\n",
    "    print(\"k = \", i, \", loss = \", polynomial_losses[i], sep = '')\n",
    "print()\n"
   ]
  },
  {
   "cell_type": "markdown",
   "metadata": {},
   "source": [
    "**7. [0.75 балла]** Для $k = 1,2,3,4,6$ нарисуйте графики полученных многочленов на одном чертеже вместе с точками $(x_i, y_i)$ из обеих выборок (возможно, график стоит сделать побольше; это делается командой `plt.figure(figsize=(width, height))`)."
   ]
  },
  {
   "cell_type": "code",
   "execution_count": 45,
   "metadata": {},
   "outputs": [
    {
     "data": {
      "text/plain": [
       "<matplotlib.legend.Legend at 0x24f2444ce48>"
      ]
     },
     "execution_count": 45,
     "metadata": {},
     "output_type": "execute_result"
    },
    {
     "data": {
      "image/png": "[encoded data removed]",
      "text/plain": [
       "<Figure size 1440x720 with 1 Axes>"
      ]
     },
     "metadata": {
      "needs_background": "light"
     },
     "output_type": "display_data"
    }
   ],
   "source": [
    "plt.figure(figsize=(20, 10))\n",
    "x = np.linspace(-0.2, 1.0, 100)\n",
    "\n",
    "plt.scatter(X_train, y_train, label='train data')\n",
    "plt.scatter(X_test, y_test, label='test data')\n",
    "\n",
    "for i in range(1, 7):\n",
    "    str_label = \"k = \" + str(i)\n",
    "    plt.plot(x, polynomial_approx(x, polynoms[i]), label = str_label)\n",
    "plt.title(\"Different polynomial approximations\")\n",
    "plt.legend()"
   ]
  },
  {
   "cell_type": "markdown",
   "metadata": {},
   "source": [
    "**8. [0.5 балла]** Что происходит с ошибкой при росте степени многочлена? Казалось бы, чем больше степень, тем более сложным будет многочлен и тем лучше он будет приближать нашу функцию. Подтверждают ли это ваши наблюдения? Как вам кажется, чем объясняется поведение ошибки на тестовых данных при $k = 10$? Как называется наблюдаемый Вами эффект?"
   ]
  },
  {
   "cell_type": "markdown",
   "metadata": {},
   "source": [
    "При увеличении степени многочлена он действительно начинает все точнее приближать функцию, то есть, среднеквадратическая ошибка на train_data уменьшается, что мы и видим. Однако, при слишком высоких степенях, наша модель настолько сильно приближается к train_data, что на нее начинает влиять шум, добавленный к тренировочной выборке. Когда мы запускаем модель на тестовой выборке, где шум уже другой, модель выдает худший результат из-за этого влияния, что мы и видим: начиная с $k= 6$ ошибка на test_data стремительно растет. Этот эффект называется переобучением. Проще говоря: модель начинает приближать не искомую функцию, а какую-то другую, на которую был наложен шум"
   ]
  },
  {
   "cell_type": "markdown",
   "metadata": {},
   "source": [
    "### Задание 2. Линейная регрессия (3.5 балла)"
   ]
  },
  {
   "cell_type": "markdown",
   "metadata": {},
   "source": [
    "Скачайте файлы ``flats_moscow_mod.txt`` и ``flats_moscow_description.txt``. В первом из них содержатся данные о квартирах в Москве. Каждая строка содержит шесть характеристик некоторой квартиры, разделённые знаками табуляции; в первой строке записаны кодовые названия характеристик. Во втором файле приведены краткие описания признаков."
   ]
  },
  {
   "cell_type": "code",
   "execution_count": 46,
   "metadata": {},
   "outputs": [
    {
     "name": "stdout",
     "output_type": "stream",
     "text": [
      "[[ 83.   64.   42.    9.   17.   10. ]\n",
      " [107.   67.   41.    9.   12.5  10. ]\n",
      " [160.  101.   51.   15.    7.    7. ]\n",
      " ...\n",
      " [ 81.   56.   39.    6.   11.5  10. ]\n",
      " [115.   77.   50.    9.    6.   10. ]\n",
      " [112.   73.   51.    8.   10.5   7. ]]\n",
      "['totsp', 'livesp', 'kitsp', 'dist', 'metrdist']\n"
     ]
    }
   ],
   "source": [
    "data_flats = np.loadtxt('flats_moscow_mod.txt',skiprows=1)\n",
    "print(data_flats)\n",
    "\n",
    "desc = [];\n",
    "with open('flats_moscow_mod.txt') as f:\n",
    "    desc = f.readline().split()\n",
    "for i in range(0, len(desc)):\n",
    "    desc[i] = desc[i][1:-1]\n",
    "del desc[0]\n",
    "\n",
    "print(desc)"
   ]
  },
  {
   "cell_type": "markdown",
   "metadata": {},
   "source": [
    "**0. [0 баллов]** Разделите выборку на обучающую и тестовую. Делать это лучше случайным образом (ведь вы не знаете, как создатели датасета упорядочили объекты); рекомендуем вам для этого функцию `sklearn.model_selection.train_test_split` с параметром `test_size=0.3`. Не забудьте зафиксировать параметр `random_state`."
   ]
  },
  {
   "cell_type": "code",
   "execution_count": 47,
   "metadata": {},
   "outputs": [
    {
     "name": "stdout",
     "output_type": "stream",
     "text": [
      "[[74.  44.  11.  13.   5. ]\n",
      " [60.  40.   8.  13.5  5. ]\n",
      " [67.  42.   9.   7.5  3. ]\n",
      " ...\n",
      " [54.  37.   6.  14.5 10. ]\n",
      " [66.  40.   8.  12.5  5. ]\n",
      " [67.  44.   9.  11.5 10. ]]\n",
      "[107.  90. 215. ...  73. 105. 110.]\n"
     ]
    }
   ],
   "source": [
    "from sklearn.model_selection import train_test_split\n",
    "data_train, data_test = train_test_split(data_flats, test_size=0.3, random_state=42)\n",
    "\n",
    "X_train = data_train[:,1:]\n",
    "y_train = data_train[:,0]\n",
    "\n",
    "X_test = data_test[:,1:]\n",
    "y_test = data_test[:,0]\n",
    "\n",
    "print(X_train)\n",
    "print(y_train)"
   ]
  },
  {
   "cell_type": "markdown",
   "metadata": {},
   "source": [
    "**1. [0.5 балла]** Вашей задачей будет построить с помощью метода наименьших квадратов (линейную) зависимость между ценой квартиры и остальными доступными параметрами. С помощью известных Вам формул найдите регрессионные коэффициенты. Выпишите построенную модель."
   ]
  },
  {
   "cell_type": "code",
   "execution_count": 48,
   "metadata": {},
   "outputs": [
    {
     "name": "stdout",
     "output_type": "stream",
     "text": [
      "price = 1.5949749963768376totsp + 1.0603389771036735livesp + 2.0690499134350793kitsp - 3.4119895138227907dist - 1.386121531919376metrdist - 8.100900294760866"
     ]
    }
   ],
   "source": [
    "def print_linear_model(lin, param):\n",
    "    print(lin[0], end='', sep='')\n",
    "    print(param[0], end='', sep='')\n",
    "    for i in range(1, len(lin)):\n",
    "        if (lin[i] >= 0):\n",
    "            print(' + ', end = '', sep = '')\n",
    "        else:\n",
    "            print(' - ', end = '', sep = '')\n",
    "        print(abs(lin[i]), end='', sep='')\n",
    "        if (i != len(lin) - 1):\n",
    "            print(param[i], end='', sep='')\n",
    "            \n",
    "n = X_train.shape[0]\n",
    "m = X_train.shape[1]\n",
    "X = X_train.reshape((n, m))\n",
    "\n",
    "A = np.concatenate((X, np.ones((n, 1))), axis = 1)\n",
    "AT = np.transpose(A)\n",
    "lin = pseudosol(A, y_train)\n",
    "\n",
    "print('price = ', end = '', sep = '')\n",
    "print_linear_model(lin, desc)"
   ]
  },
  {
   "cell_type": "markdown",
   "metadata": {},
   "source": [
    "**2. [0.25 балла]** Какой смысл имеют их знаки? Согласуются ли они с вашими представлениями о жизни?"
   ]
  },
  {
   "cell_type": "markdown",
   "metadata": {},
   "source": [
    "Знаки при параметрах totsp, livesp и kitsp - это '+', а при параметрах dist и metrdist - '-'. Получается вполне логично, т.к. квартира тем дороже, чем больше площадь комнат и площадь самой квартиры, а также чем ближе она к центру и к метро - следовательно, чем меньше расстояния до них dist и metdist соответственно. Последний параметр - константа b, ее знак мало о чем говорит"
   ]
  },
  {
   "cell_type": "markdown",
   "metadata": {},
   "source": [
    "**3. [0.25 балла]** Оцените качество приближения, вычислив среднеквадратическую ошибку на тестовой выборке."
   ]
  },
  {
   "cell_type": "code",
   "execution_count": 49,
   "metadata": {},
   "outputs": [
    {
     "name": "stdout",
     "output_type": "stream",
     "text": [
      "Train data\n",
      "loss = 790.3953564279122\n",
      "\n",
      "Test data\n",
      "loss = 1226.7814210409736\n"
     ]
    }
   ],
   "source": [
    "def linear_approx(x, lin):\n",
    "    res = lin[-1]\n",
    "    for i in range(0, lin.shape[0] - 1):\n",
    "        res += lin[i] * x[i]\n",
    "        \n",
    "    return res\n",
    "\n",
    "def linear_loss(X, lin, y):\n",
    "    res = 0\n",
    "    n = X.shape[0]\n",
    "    for i in range(0, n):\n",
    "        res += (linear_approx(X[i], lin) - y[i]) ** 2\n",
    "        \n",
    "    return res / n\n",
    "    \n",
    "print(\"Train data\")\n",
    "print(\"loss = \", linear_loss(X_train, lin, y_train), sep = '')\n",
    "print()\n",
    "\n",
    "print(\"Test data\")\n",
    "print(\"loss = \", linear_loss(X_test, lin, y_test), sep = '') "
   ]
  },
  {
   "cell_type": "markdown",
   "metadata": {
    "collapsed": true
   },
   "source": [
    "### Усложнение модели"
   ]
  },
  {
   "cell_type": "markdown",
   "metadata": {},
   "source": [
    "Конечно, никто не гарантирует, что объясняемая переменная (цена квартиры) зависит от остальных характеристик именно линейно. Зависимость может быть, например, квадратичной или логарифмической; больше того, могут быть важны не только отдельные признаки, но и их комбинации. Это можно учитывать, добавляя в качестве дополнительных признаков разные функции от уже имеющихся характеристик: их квадраты, логарифмы, попарные произведения."
   ]
  },
  {
   "cell_type": "markdown",
   "metadata": {},
   "source": [
    "В этом задании Вам нужно постараться улучшить качество модели, добавляя дополнительные признаки, являющиеся функциями от уже имеющихся. Но будьте осторожны: чрезмерное усложнение модели будет приводить к переобучению."
   ]
  },
  {
   "cell_type": "markdown",
   "metadata": {},
   "source": [
    "**4. [0.25 балла]** Опишите признаки, которые Вы решили добавить. Объясните, чем был мотивирован выбор именно этих признаков."
   ]
  },
  {
   "cell_type": "markdown",
   "metadata": {},
   "source": [
    "Хочу добавить квадратные корни из всех признаков и квадраты всех признаков. Я хочу добавить именно эти степени, т.к. по моему мнению, другие степени или нестепенные функции выглядят неестественными. Это скорее мои догадки, но можно это проверить"
   ]
  },
  {
   "cell_type": "markdown",
   "metadata": {},
   "source": [
    "**5. [2 балла]** Постройте с помощью метода наименьших квадратов (линейную) зависимость между ценой квартиры и новыми признаками. С помощью известных Вам формул найдите регрессионные коэффициенты. Выпишите построенную модель."
   ]
  },
  {
   "cell_type": "code",
   "execution_count": 50,
   "metadata": {},
   "outputs": [
    {
     "name": "stdout",
     "output_type": "stream",
     "text": [
      "price = -0.1607505499236188totsp - 86.16023143482256livesp + 15.994982188765096kitsp - 39.816721013550726dist + 6.984128225525617metrdist + 13.372585063388016totsp^0.5 + 774.4255720089702livesp^0.5 - 49.29259799242949kitsp^0.5 + 136.67704814247557dist^0.5 - 36.854433142245355metrdist^0.5 + 0.004917176117404498totsp^2 + 0.3178264736569218livesp^2 - 0.2609069263641553kitsp^2 + 0.6857813234722143dist^2 - 0.08340346779985225metrdist^2 - 1987.7781869129294"
     ]
    }
   ],
   "source": [
    "n = X_train.shape[0]\n",
    "m = X_train.shape[1]\n",
    "X = X_train.reshape(n, m)\n",
    "A = np.copy(X)\n",
    "\n",
    "n1 = X_test.shape[0]\n",
    "m1 = X_test.shape[1]\n",
    "X1 = X_test.reshape(n1, m1)\n",
    "A1 = np.copy(X1)\n",
    "\n",
    "new_desc = desc.copy()\n",
    "for i in range(0, m):\n",
    "    A = np.concatenate((A, np.power(X[:,i].reshape(n, 1), 0.5)), axis = 1)\n",
    "    A1 = np.concatenate((A1, np.power(X1[:,i].reshape(n1, 1), 0.5)), axis = 1)\n",
    "    new_desc.append(new_desc[i] + '^0.5')\n",
    "for i in range(0, m):\n",
    "    A = np.concatenate((A, np.power(X[:,i].reshape(n, 1), 2)), axis = 1)\n",
    "    A1 = np.concatenate((A1, np.power(X1[:,i].reshape(n1, 1), 2)), axis = 1)\n",
    "    new_desc.append(new_desc[i] + '^2')\n",
    "    \n",
    "A = np.concatenate((A, np.ones((n, 1))), axis = 1)\n",
    "A1 = np.concatenate((A1, np.ones((n1, 1))), axis = 1)\n",
    "AT = np.transpose(A)\n",
    "\n",
    "\n",
    "new_lin = np.dot(np.dot(np.linalg.inv(np.dot(AT, A)), AT), y_train)\n",
    "\n",
    "print('price = ', end = '', sep = '')\n",
    "print_linear_model(new_lin, new_desc)"
   ]
  },
  {
   "cell_type": "markdown",
   "metadata": {},
   "source": [
    "**6. [0.25 балла]** Оцените качество приближения, вычислив среднеквадратическую ошибку на тестовой выборке."
   ]
  },
  {
   "cell_type": "code",
   "execution_count": 51,
   "metadata": {},
   "outputs": [
    {
     "name": "stdout",
     "output_type": "stream",
     "text": [
      "Train data\n",
      "loss = 711.4138576307338\n",
      "\n",
      "Test data\n",
      "loss = 809.0731911873364\n"
     ]
    }
   ],
   "source": [
    "print(\"Train data\")\n",
    "print(\"loss = \", linear_loss(A, new_lin, y_train), sep = '')\n",
    "print()\n",
    "\n",
    "print(\"Test data\")\n",
    "print(\"loss = \", linear_loss(A1, new_lin, y_test), sep = '') "
   ]
  },
  {
   "cell_type": "markdown",
   "metadata": {},
   "source": [
    "Как видно по уменьшившейся ошибке, мое предположение о степенях 2 и 1/2 вполне работает"
   ]
  },
  {
   "cell_type": "markdown",
   "metadata": {},
   "source": [
    "### Задание 3. Регуляризация (3.5 балла)"
   ]
  },
  {
   "cell_type": "markdown",
   "metadata": {},
   "source": [
    "Вспомним, что задача линейной регрессии формулируется как задача нахождения проекции вектора значений объясняемой переменной $y$ на линейную оболочку $\\langle x_1,\\ldots,x_k\\rangle$ векторов значений регрессоров. Если векторы $x_1,\\ldots,x_k$ линейно зависимы, то матрица $X^TX$ вырожденна и задача не будет решаться с помощью приведённой выше формулы. В жизни, по счастью, различные признаки редко бывают *в точности* линейно зависимы, однако во многих ситуациях они скоррелированы и становятся \"почти\" линейно зависимыми. Таковы, к примеру, зарплата человека, его уровень образования, цена машины и суммарная площадь недвижимости, которой он владеет. В этом случае матрица $X^TX$ будет близка к вырожденной, и это приводит к численной неустойчивости и плохому качеству решений; как следствие, будет иметь место переобучение. Один из симптомов этой проблемы — необычно большие по модулю компоненты вектора $a$.\n",
    "\n",
    "Есть много способов борьбы с этим злом. Один из них - регуляризация. Сейчас мы рассмотрим одну из её разновидностей — **L2-регуляризацию**. Идея в том, чтобы подправить матрицу $X^TX$, сделав её \"получше\". Например, это можно сделать, заменив её на $(X^TX + \\lambda E)$, где $\\lambda > 0$ — некоторый скаляр. Пожертвовав точностью на обучающей выборке, мы тем не менее получаем численно более стабильное псевдорешение $a = (X^TX + \\lambda E)^{-1}X^Ty$ и снижаем эффект переобучения. *Гиперпараметр* $\\lambda$ нужно подбирать, и каких-то универсальных способов это делать нет, но зачастую можно его подобрать таким, чтобы ошибка на тестовой выборке падала.\n",
    "\n",
    "Однако есть некоторые правила, которых стоит придерживаться при подборе коэффициента регуляризации. Обычно в такой ситуации всю выборку делят на три части: обучающую, *валидационную* и тестовую. Сначала по валидационной подбирают значение гиперпараметра, потом по обучающей строят модель, а по тестовой оценивают её итоговое качество. Кроме того, подбирать $\\lambda$ нужно по логарифметической сетке, чтобы узнать оптимальный порядок величины."
   ]
  },
  {
   "cell_type": "markdown",
   "metadata": {},
   "source": [
    "**1. [0.25 балла]** Почему не стоит подбирать коэффициент регуляризации по обучающей выборке? По тестовой выборке?"
   ]
  },
  {
   "cell_type": "markdown",
   "metadata": {},
   "source": [
    "Если подбирать коэффициент по обучающей выборке, то опять же, на модель может оказать влияние наложенный шум (мы стремимся минимизировать ошибку на обучающей выборке). По тестовой выборке подбирать коэффициент нельзя, потому что теряется смысл тестовой выборки - на ней тестируется уже готовая модель и она никак не должна на модель влиять."
   ]
  },
  {
   "cell_type": "markdown",
   "metadata": {},
   "source": [
    "**2. [0 баллов]** Теперь давайте вспомним первую задачу. Если Вы её сделали, то помните, что ошибка аппроксимации многочленом шестой степени довольно высокая. Попытаемся использовать регуляризацию при построении модели. Поделите обучающую выборку из первой задачи на две части, одну из которых объявите обучающей, а другую — валидационной (будьте осторожны при выборе `train_size`, в этой выборке не так много данных)."
   ]
  },
  {
   "cell_type": "code",
   "execution_count": 53,
   "metadata": {},
   "outputs": [
    {
     "name": "stdout",
     "output_type": "stream",
     "text": [
      "[ 0.4   0.94  0.7   0.88  0.22  0.28 -0.08  0.34  0.52  1.  ]\n",
      "[-0.02  0.1   0.58  0.46  0.64  0.82  0.16  0.04  0.76 -0.2  -0.14]\n",
      "[-0.3  -0.23 -0.16 -0.09 -0.02  0.05  0.12  0.19  0.26  0.33  0.4   0.47\n",
      "  0.54  0.61  0.68  0.75  0.82  0.89  0.96  1.03  1.1 ]\n"
     ]
    }
   ],
   "source": [
    "data_train = np.loadtxt('train.txt', delimiter=',')\n",
    "data_test = np.loadtxt('test.txt', delimiter=',')\n",
    "\n",
    "data_train, data_valid = train_test_split(data_train, test_size=0.5, random_state=111)\n",
    "\n",
    "X_train = data_train[:,0]\n",
    "y_train = data_train[:,1]\n",
    "\n",
    "X_valid = data_valid[:,0]\n",
    "y_valid = data_valid[:,1]\n",
    "\n",
    "X_test = data_test[:,0]\n",
    "y_test = data_test[:,1]\n",
    "\n",
    "print(X_train)\n",
    "print(X_valid)\n",
    "print(X_test)"
   ]
  },
  {
   "cell_type": "markdown",
   "metadata": {},
   "source": [
    "**3. [0.75 балла]** Убедитесь, что, используя регуляризацию с хорошо подобранным коэффициентом $\\lambda$, ошибку на тестовой выборке можно сделать не больше, чем для многочлена оптимальной степени в модели без регуляризации."
   ]
  },
  {
   "cell_type": "code",
   "execution_count": 54,
   "metadata": {},
   "outputs": [
    {
     "name": "stdout",
     "output_type": "stream",
     "text": [
      "without regularization : loss = 0.3553464571518395\n",
      "with regularization : loss = 0.3430602290459362 lambda = 0.08697490026177834\n"
     ]
    }
   ],
   "source": [
    "def pseudosol_l2reg(A, y, l):\n",
    "    AT = np.transpose(A)\n",
    "    E = np.diag(np.ones(A.shape[1]))\n",
    "    return np.dot(np.dot(np.linalg.inv(np.dot(AT, A) + E * l), AT), y_train)\n",
    "\n",
    "\n",
    "k = 6;\n",
    "n = X_train.shape[0]\n",
    "X = X_train.reshape((n, 1))\n",
    "\n",
    "A = np.ones((n, 1))\n",
    "\n",
    "for i in range (1, k + 1):\n",
    "    A = np.concatenate((A, np.power(X, i)), axis = 1)\n",
    "\n",
    "lmbd = np.logspace(-5, 5, num = 100)\n",
    "lmbd = np.insert(lmbd, 0, 0, axis=0)\n",
    "\n",
    "lmbd_losses = []\n",
    "\n",
    "zero_polynom = pseudosol(A, y_train)\n",
    "zero_loss = polynomial_loss(X_valid, y_valid, zero_polynom)\n",
    "\n",
    "min_loss = zero_loss;\n",
    "min_lmbd = 0;\n",
    "min_polynom = []\n",
    "\n",
    "for l in lmbd:\n",
    "    polynom = pseudosol_l2reg(A, y_train, l)\n",
    "    cur_loss = polynomial_loss(X_valid, y_valid, polynom)\n",
    "    \n",
    "    if (cur_loss < min_loss):\n",
    "        min_loss = cur_loss\n",
    "        min_lmbd = l\n",
    "        min_polynom = polynom\n",
    "        \n",
    "    lmbd_losses.append(cur_loss)\n",
    "    \n",
    "print(\"without regularization : loss =\", min(polynomial_losses))\n",
    "print(\"with regularization : loss =\", polynomial_loss(X_test, y_test, min_polynom), \"lambda =\", min_lmbd)"
   ]
  },
  {
   "cell_type": "markdown",
   "metadata": {},
   "source": [
    "**4. [0.25 балла]** Для этого $\\lambda$ сравните $\\det(X^TX)$ и $\\det(X^TX + \\lambda E)$. Чем можно объяснить такой результат?"
   ]
  },
  {
   "cell_type": "code",
   "execution_count": 55,
   "metadata": {},
   "outputs": [
    {
     "name": "stdout",
     "output_type": "stream",
     "text": [
      "without regularization : 4.969061257785103e-17\n",
      "with regularization : 0.0019036409413306973\n"
     ]
    }
   ],
   "source": [
    "AT = np.transpose(A)\n",
    "print(\"without regularization :\", np.linalg.det(np.dot(AT, A)))\n",
    "print(\"with regularization :\", np.linalg.det(np.dot(AT, A) + np.diag(np.ones(A.shape[1])) * min_lmbd))"
   ]
  },
  {
   "cell_type": "markdown",
   "metadata": {},
   "source": [
    "Наверное, в $X^TX$ были столбцы или строки, близкие к линейно зависимым, из-за чего определитель получался очень мал по модулю. Когда мы добавили к этой матрице $\\lambda E$ эта проблема устранилась. Когда мы берем обратную матрицу к этой, то ее определитель равен обратному к исходному, то есть, он получается очень большой по модулю, следовательно, в получившейся матрице будут большие по модулю числа, что влечет ошибки в вычислениях и как следствие - большую ошибку на тестовых данных."
   ]
  },
  {
   "cell_type": "markdown",
   "metadata": {},
   "source": [
    "**5. [0.25 балла]** Нарисуйте на одном чертеже графики многочленов шестой степени, приближающих неизвестную функцию, для модели с регуляризацией и без."
   ]
  },
  {
   "cell_type": "code",
   "execution_count": 56,
   "metadata": {},
   "outputs": [
    {
     "data": {
      "text/plain": [
       "<matplotlib.legend.Legend at 0x24f22bc9908>"
      ]
     },
     "execution_count": 56,
     "metadata": {},
     "output_type": "execute_result"
    },
    {
     "data": {
      "image/png": "[encoded data removed]",
      "text/plain": [
       "<Figure size 432x288 with 1 Axes>"
      ]
     },
     "metadata": {
      "needs_background": "light"
     },
     "output_type": "display_data"
    }
   ],
   "source": [
    "x1 = np.linspace(-0.1, 1.0, 100)\n",
    "x2 = np.linspace(-0.25, 1.05, 100)\n",
    "\n",
    "plt.scatter(X_train, y_train, label='train data')\n",
    "plt.scatter(X_test, y_test, label='test data')\n",
    "plt.scatter(X_valid, y_valid, label='validation data')\n",
    "plt.plot(x, polynomial_approx(x2, min_polynom), 'C3', label='with regularization')\n",
    "plt.plot(x, polynomial_approx(x1, zero_polynom), 'C4', label='without regularization')\n",
    "plt.title(\"Polynomial approximation\")\n",
    "plt.legend()"
   ]
  },
  {
   "cell_type": "markdown",
   "metadata": {},
   "source": [
    "**6. [0.25 балла]** Чем первый из них выгодно отличается от второго?"
   ]
  },
  {
   "cell_type": "markdown",
   "metadata": {},
   "source": [
    "Регуляризованный многочлен более плавный, в то время как многочлен без регуляризации сильно колеблется и, как видно из графика, переобучен, т.к. повторяет траекторию именно синих точек, а не точек в целом"
   ]
  },
  {
   "cell_type": "markdown",
   "metadata": {},
   "source": [
    "**7. [0.75 балла]** Пусть заданы $X\\in \\text{Mat}_{n \\times k}(\\mathbb{R})$, $\\lambda \\geqslant 0$, а также известно, что $\\text{rk}~X = k \\leqslant n$. Решите следующую задачу оптимизации:\n",
    "$$|Xa - y|^2 + \\lambda|a|^2\\rightarrow\\min\\limits_{a \\in \\mathbb{R}^k}.$$"
   ]
  },
  {
   "cell_type": "markdown",
   "metadata": {},
   "source": [
    "\\begin{align*}\n",
    "   |Xa - y|^2 + \\lambda |a|^2 &= (Xa - y)^T(Xa - y) + \\lambda a^T a = \\\\ &=\n",
    "   (a^TX^T - y^T)(Xa - y) + \\lambda a^T a = \\\\ &=\n",
    "   a^TX^TXa - y^TXa - a^TX^Ty + y^Ty + \\lambda a^T a = \\\\ &=\n",
    "   a^T(X^TX + \\lambda E)a + y^Ty - 2y^TXa \n",
    "\\end{align*}\n",
    "\n",
    "Поскольку $a^TX^Ty$ и $y^TXa$ - скаляры, $a^TX^Ty = (a^TX^Ty)^T = y^TXa$. Обоначим теперь $b = y^TX$, $A = (X^TX + \\lambda E)$, $a = (X^TX + \\lambda E)^{-1}X^Ty + d = A^{-1}b^T + d$. Заметим также, что $A$ - симметрична, следовательно $A^T = A$, $(A^{-1})^T = A^{-1}$, кроме того $bd$ - скаляр, следовательно, $bd = (bd)^T = d^Tb^T$\n",
    "\n",
    "\\begin{align*}\n",
    "   |Xa - y|^2 + \\lambda |a|^2 &= \\ldots = \n",
    "   (A^{-1}b^T + d)^TA(A^{-1}b^T + d) + y^Ty - 2b(A^{-1}b^T + d) = \\\\ &=\n",
    "   (d^T + b(A^{-1})^T)A(A^{-1}b^T + d) + y^Ty - 2bA^{-1}b^T - 2bd = \\\\ &=\n",
    "   (d^TA + bA^{-1}A)(A^{-1}b^T + d) + y^Ty - 2bA^{-1}b^T - 2bd = \\\\ &=\n",
    "   (d^TA + b)(A^{-1}b^T + d) + y^Ty - 2bA^{-1}b^T - 2bd = \\\\ &=\n",
    "   d^Tb^T +bA^{-1}b^T + d^TAd + bd + y^Ty - 2bA^{-1}b^T - 2bd = \\\\ &=\n",
    "   d^TAd + y^Ty - bA^{-1}b^T = \\\\ &=\n",
    "   d^T(X^TX + \\lambda E) d + y^Ty - bA^{-1}b^T = \\\\ &=\n",
    "   d^TX^TXd + d^T\\lambda E d + y^Ty - bA^{-1}b^T = \\\\ &=\n",
    "   (Xd)^TXd + \\lambda d^T d + y^Ty - bA^{-1}b^T\n",
    "\\end{align*}\n",
    "\n",
    "В этом выражении $y^Ty - bA^{-1}b^T = const$, надо минимизировать $(Xd)^TXd + \\lambda d^T d = |Xd|^2 + \\lambda|d|^2 \\geq 0$. Равенство достигается при $d = \\vec{0}$ (при любых других значениях $|Xd| = |X^{(1)}d_1 + X^{(2)}d_2 + \\ldots + X^{(k)}d_k| > 0$, поскольку столбцы матрицы $X$ линейно независимы, их линейная комбинация равна 0 только с нулевыми коэффициентами) следовательно $a = (X^TX + \\lambda E)^{-1}X^Ty$. "
   ]
  },
  {
   "cell_type": "markdown",
   "metadata": {},
   "source": [
    "Интуитивно это можно понимать так: мы ищем компромисс между минимизацией длины разности $|Xa - y|$ (то есть точностью решения задачи регрессии) и тем, чтобы компоненты вектора $a$ не становились слишком большими по модулю."
   ]
  },
  {
   "cell_type": "markdown",
   "metadata": {},
   "source": [
    "**8. [0.25 балла]** Почему регуляризовать (штрафовать за слишком большую абсолютную величину) коэффициент при константном признаке (который состоит из одних единиц) — плохая идея?"
   ]
  },
  {
   "cell_type": "markdown",
   "metadata": {},
   "source": [
    "Можно привести пример, когда коэффициент при константном признаке должен быть большой: точки расположены вблизи прямой $y = x + 1000$, где $-1 < x < 1$. Тогда наши точки как бы сдвинуты вверх относительно начала координат, и хорошим решением будет ликвидировать сдвиг вычитанием большой константы."
   ]
  },
  {
   "cell_type": "markdown",
   "metadata": {},
   "source": [
    "**9. [0.5 балла]** Пусть теперь $\\text{rk}~X < k$. Всегда ли в этом случае существует решение? Если существует, то является ли оно единственным? Ответ обоснуйте."
   ]
  },
  {
   "cell_type": "markdown",
   "metadata": {},
   "source": [
    "Если $\\lambda > 0$, то решение единственное, $a = (X^TX + \\lambda E)^{-1}X^Ty$, при других $d$ слагаемое $\\lambda |d|^2 > 0$. \\\\ \n",
    "Если $\\lambda = 0$, то подходят любое $d$, такое что $Xd = 0$. Поскольку ранг $X$ меньше $k$, столбцы  $X$ линейно зависимы, и для некоторого $i$ \n",
    "$$\n",
    "    X^{(i)} = \\alpha_1X^{(1)} + \\ldots + \\alpha_{i-1}X^{(i-1)} + \\alpha_{i+1}X^{(i+1)} + \\ldots + \\alpha_{k}X^{(k)}\n",
    "$$\n",
    "Возьмем $d = (\\alpha_1 \\cdot \\mu, \\ldots, \\alpha_{i-1} \\cdot \\mu, -\\mu, \\alpha_{i+1} \\cdot \\mu,  \\ldots, \\alpha_{k} \\cdot\\mu)$. Тогда \n",
    "\\begin{align}\n",
    "    Xd &= \\alpha_1\\mu X^{(1)} + \\ldots + \\alpha_{i-1}\\mu X^{(i-1)} - \\mu X^{(i-1)}+ \\alpha_{i+1}\\mu X^{(i+1)} + \\ldots + \\alpha_k\\mu X^{(k)} = \\\\ &=\n",
    "    \\mu \\left(\\alpha_1X^{(1)} + \\ldots + \\alpha_{i-1}X^{(i-1)} + \\alpha_{i+1}X^{(i+1)} + \\ldots + \\alpha_{k}X^{(k)} - X^{(i)}\\right) = \\mu \\cdot 0 = 0\n",
    "\\end{align}\n",
    "Получаем бесконечно много решений вида $a =  (X^TX + \\lambda E)^{-1}X^Ty + (\\alpha_1 \\cdot \\mu, \\ldots, \\alpha_{i-1} \\cdot \\mu, -\\mu, \\alpha_{i+1} \\cdot \\mu, \\ldots, \\alpha_{k} \\cdot\\mu)$, где $\\mu \\in \\mathbb{R}$. \\\\\n",
    "\n",
    "Вывод: если $\\lambda > 0$ есть ровно одно решение, если $\\lambda = 0$, то решений бесконечно много"
   ]
  },
  {
   "cell_type": "markdown",
   "metadata": {},
   "source": [
    "**10. [0.25 балла]** Покажите, что если решений бесконечно много, то среди них обязательно найдутся решения со сколь угодно большими по модулю компоненты вектора $a$. Почему большие веса в линейной модели — плохо?"
   ]
  },
  {
   "cell_type": "markdown",
   "metadata": {},
   "source": [
    "Если решений бесконечно много, то среди них есть решения вида $a =  (X^TX + \\lambda E)^{-1}X^Ty + (\\alpha_1 \\cdot \\mu, \\ldots, \\alpha_{i-1} \\cdot \\mu, -\\mu, \\alpha_{i+1} \\cdot \\mu, \\ldots, \\alpha_{k} \\cdot\\mu)$, а поскольку $\\mu$ может быть сколь угодно большой, то одна из координат вектора, а следовательно, и его модуль, может быть сколь угодно большой. Большие веса плохо работают в линейной модели, т.к. страдает точность вычислений из-за того, что в мантиссу числа входит ограниченное количество цифр"
   ]
  },
  {
   "cell_type": "markdown",
   "metadata": {},
   "source": [
    "### Задание 4. Онлайн-обучение линейной регрессии (3 балла)"
   ]
  },
  {
   "cell_type": "markdown",
   "metadata": {},
   "source": [
    "Раньше мы работали в ситуации, когда объекты $x_i$ и значения $y_i$ даны с самого начала и всегда доступны. Допустим теперь, что пары $(x_i, y_i)$ поступают к нам по одной, и мы не можем себе позволить хранить их все в памяти (это может быть актуально, например, если Вы пытаетесь обучить модель на устройстве со сравнительно небольшим количеством оперативной памяти: скажем, на мобильном телефоне или на бортовом компьютере спутника связи). В этом случае нам нужно уметь решать следующую задачу:\n",
    "\n",
    "**Известно:** решение задачи регрессии для датасета $(x_1, y_1),\\ldots,(x_t,y_t)$;\n",
    "\n",
    "**На вход поступает:** новая пара $(x_{t+1}, y_{t+1})$;\n",
    "\n",
    "**Требуется:** быстро (за время, не зависящее от $t$) отыскать решение задачи регрессии для расширенного датасета $(x_1, y_1),\\ldots,(x_t,y_t),(x_{t+1}, y_{t+1})$."
   ]
  },
  {
   "cell_type": "markdown",
   "metadata": {},
   "source": [
    "Обозначим $X_{(t)} = (x_1\\ldots x_t)^T$ и $y_{(t)} = (y_1,\\ldots,y_t)^T$. Тогда, как мы хорошо помним, решение задачи регрессии для датасета $(x_1, y_1),\\ldots,(x_t,y_t)$ имеет вид $\\hat{a}_{(t)} = \\left(X^T_{(t)}X_{(t)}\\right)^{-1}X^T_{(t)}y_{(t)}$. Размеры матриц $X^T_{(t)}X_{(t)}$ и $X^T_{(t)}y_{(t)}$ не зависят от $t$, поэтому их мы, пожалуй, можем себе позволить хранить в памяти."
   ]
  },
  {
   "cell_type": "markdown",
   "metadata": {},
   "source": [
    "**1. [1 балл]** И вот Ваше первое задание в этом разделе: придумайте алгоритм, принимающий на вход матрицы $X^T_{(t)}X_{(t)}$ и $X^T_{(t)}y_{(t)}$, а также пару $(x_{t+1}, y_{t+1})$ и вычисляющий матрицы $X^T_{(t+1)}X_{(t+1)}$ и $X^T_{(t+1)}y_{(t+1)}$. Сложность вашего алгоритма не должна зависеть от $t$."
   ]
  },
  {
   "cell_type": "markdown",
   "metadata": {},
   "source": [
    "\\begin{align}\n",
    "X_{(t)}^TX_{(t)} &= \\sum\\limits_{i=1}^n\\sum\\limits_{j=1}^n\\sum\\limits_{k=1}^{t}\n",
    "(X_{(t)}^T)_{ik}\\cdot(X_{(t)})_{kj} = \n",
    "\\sum\\limits_{i=1}^n\\sum\\limits_{j=1}^n\\sum\\limits_{k=1}^{t} x_{ki} \\cdot x_{kj} \\\\\n",
    "X_{(t + 1)}^TX_{(t + 1)} &= \n",
    "\\sum\\limits_{i=1}^n\\sum\\limits_{j=1}^n\\sum\\limits_{k=1}^{t+1} x_{ki} \\cdot x_{kj}  = \n",
    "\\sum\\limits_{i=1}^n\\sum\\limits_{j=1}^n\\sum\\limits_{k=1}^{t} x_{ki} \\cdot x_{kj}  + \n",
    "\\sum\\limits_{i=1}^n\\sum\\limits_{j=1}^n x_{(t+1)i} \\cdot x_{(t+1)j} = \\\\ &=\n",
    "X_{(t)}^TX_{(t)} + x_{t+1}x_{t+1}^T\n",
    "\\end{align}\n",
    "\n",
    "Предполагается, что $y_i \\in \\mathbb{R}$, т.к. ранее было написано, что $y$ - это некоторые значения\n",
    "\n",
    "\\begin{align}\n",
    "X_{(t)}^Ty_{(t)} &= \\sum\\limits_{i=1}^n\\sum\\limits_{k=1}^{t}\n",
    "(X_{(t)}^T)_{ik}\\cdot(y_{(t)})_{k} = \n",
    "\\sum\\limits_{i=1}^n\\sum\\limits_{k=1}^{t} x_{ki} \\cdot y_{k} \\\\\n",
    "X_{(t + 1)}^Ty_{(t + 1)} &=\n",
    "\\sum\\limits_{i=1}^n\\sum\\limits_{k=1}^{t+1} x_{ki} \\cdot y_{k} = \n",
    "\\sum\\limits_{i=1}^n\\sum\\limits_{k=1}^{t} x_{ki} \\cdot y_{k} + \n",
    "\\sum\\limits_{i=1}^n x_{(t+1)i} \\cdot y_{(t+1)} = \\\\ &=\n",
    "x_{t+1}y_{t+1}\n",
    "\\end{align}\n",
    "\n",
    "Получаем формулы $X_{(t + 1)}^TX_{(t + 1)} = X_{(t)}^TX_{(t)} + x_{t+1}^2$ и $ X_{(t + 1)}^Ty_{(t + 1)} = X_{(t)}^Ty_{(t)} + x_{t+1}y_{t+1}$\n",
    "\n",
    "Поскольку мы умножаем матрицы фиксированного размера, алгоритм линеен по времени"
   ]
  },
  {
   "cell_type": "markdown",
   "metadata": {},
   "source": [
    "**2. [2 балла]** Теперь настало время написать немного кода и порисовать красивые картинки. Вам нужно будет реализовать симуляцию онлайн-обучения регрессии для задачи приближения функции (в данном случае $f_{true}(x) = 2x\\sin(5x) + x^2 - 1$; все значения искажены небольшим нормальным шумом) многочленом степени не выше 5."
   ]
  },
  {
   "cell_type": "code",
   "execution_count": 57,
   "metadata": {},
   "outputs": [
    {
     "data": {
      "image/png": "[encoded data removed]",
      "text/plain": [
       "<Figure size 432x288 with 1 Axes>"
      ]
     },
     "metadata": {
      "needs_background": "light"
     },
     "output_type": "display_data"
    }
   ],
   "source": [
    "from IPython.display import clear_output\n",
    "\n",
    "f_true = lambda x: 2*x*np.sin(5*x) + x**2 - 1 # this is the true function\n",
    "\n",
    "# We need this to make the plot of f_true:\n",
    "x_grid = np.linspace(-2,5,100) # 100 linearly spaced numbers\n",
    "x_grid_enl = np.hstack((x_grid.reshape((100,1))**j for j in range(6)))\n",
    "y_grid = f_true(x_grid)\n",
    "\n",
    "n = 5\n",
    "\n",
    "XTX = np.zeros((n, n))\n",
    "XTY = np.zeros((n, 1))\n",
    "\n",
    "for i in range(200):\n",
    "\n",
    "    x_new = np.random.uniform(-2, 5)\n",
    "    y_new = f_true(x_new) + 2*np.random.randn()\n",
    "    \n",
    "    X = np.zeros((n, 1))\n",
    "    for i in range(0, n):\n",
    "        X[i] = x_new ** i\n",
    "    \n",
    "    XTX += np.dot(X, np.transpose(X))\n",
    "    XTY += X * y_new\n",
    "    \n",
    "    # the rest of code is just bells and whistles\n",
    "    if (i+5)%1==0:\n",
    "        clear_output(True)\n",
    "        plt.plot(x_grid,y_grid, color='blue', label='true f')\n",
    "        plt.scatter(x_new, y_new, color='red')\n",
    "        \n",
    "        polynom = np.dot(np.linalg.inv(XTX), XTY)\n",
    "        y_pred = []\n",
    "        \n",
    "        for x in x_grid:\n",
    "            X = np.zeros((1, n))\n",
    "            for i in range(0, n):\n",
    "                X[0][i] = x ** i\n",
    "            y_pred.append(np.dot(X, polynom))\n",
    "            \n",
    "        plt.scatter(x_grid, y_pred, color='orange', linewidth=5, label='predicted f')\n",
    "        \n",
    "        plt.legend(loc='upper left')\n",
    "        plt.show()"
   ]
  },
  {
   "cell_type": "markdown",
   "metadata": {},
   "source": [
    "### Добавление. QR-разложение"
   ]
  },
  {
   "cell_type": "markdown",
   "metadata": {},
   "source": [
    "**QR-разложением** матрицы $A$ (не обязательно квадратной) мы будем называть её представление в виде $A = QR$, где $Q$ — матрица с ортонормированными столбцами, а $R$ - верхнетреугольная матрица.\n",
    "\n",
    "Смысл QR-разложения следующий. Пусть $a_1,\\ldots,a_m$ — столбцы матрицы $A$, $q_1,\\ldots,q_t$ — столбцы матрицы $Q$. Тогда $q_1,\\ldots,q_t$ — это ортонормированный базис в подпространстве, являющемся линейной оболочкой векторов $a_1,\\ldots,a_m$, а в матрице $R$ записаны коэффициенты, с помощью которых $a_i$ выражаются через $q_1,\\ldots,q_t$.\n",
    "\n",
    "Находить QR-разложение заданной матрицы можно разными способами. Мы познакомим Вас не с самым лучшим из них, но по крайней мере с наиболее простым концептуально. Заметим, что ортогональный базис линейной оболочки можно найти с помощью ортогонализации Грама-Шмидта. При этом коэффициенты из матрицы $R$ получаются в качестве побочного продукта этого процесса:\n",
    "\n",
    "```python\n",
    "for j = 1...n:\n",
    "    q_j = a_j\n",
    "    for i = 1,...,j-1:\n",
    "        r_ij = (q_i, a_j)\n",
    "        q_j = q_j - r_ij * q_i\n",
    "    r_jj = |q_j|\n",
    "    if r_jj == 0: # a_j in <a_1,...,a_j-1>\n",
    "        # What would you do in this case?..\n",
    "    q_j = q_j / r_jj\n",
    "```\n",
    "\n",
    "Для нахождения QR-разложения Вы можете использовать библиотечную функцию `scipy.linalg.qr`."
   ]
  },
  {
   "cell_type": "markdown",
   "metadata": {},
   "source": [
    "Поскольку лабораторная про линейную регрессию, не так-то просто замять вопрос о том, какое же отношение QR-разложение имеет к задаче регрессии. Упомянем одно из возможных применений.\n",
    "\n",
    "Допустим, мы нашли QR-разложение матрицы $X$, а именно: $X = QR$. Тогда\n",
    "$$X^TX = (QR)^T(QR) = R^TQ^TQR = R^TR$$"
   ]
  },
  {
   "cell_type": "markdown",
   "metadata": {},
   "source": [
    "Поскольку в задаче регрессии матрица $X$ обычного полного ранга (то есть её столбцы линейно независимы), матрица $R$ будет квадратной. Благодаря этому нашу обычную формулу для набора регрессионных коэффициентов $\\hat{a}$ можно переписать в следующем виде:\n",
    "\n",
    "$$\\hat{a} = (X^TX)^{-1}X^Ty = (R^TR)^{-1}(QR)^Ty = R^{-1}(R^T)^{-1}R^TQ^Ty = R^{-1}Q^Ty$$\n",
    "\n",
    "Как видите, формула стала проще. Более того, зачастую обращение матрицы $R$ может быть численно более устойчиво, чем обращение матрицы $X^TX$."
   ]
  }
 ],
 "metadata": {
  "kernelspec": {
   "display_name": "Python 3",
   "language": "python",
   "name": "python3"
  },
  "language_info": {
   "codemirror_mode": {
    "name": "ipython",
    "version": 3
   },
   "file_extension": ".py",
   "mimetype": "text/x-python",
   "name": "python",
   "nbconvert_exporter": "python",
   "pygments_lexer": "ipython3",
   "version": "3.7.6"
  }
 },
 "nbformat": 4,
 "nbformat_minor": 1
}
